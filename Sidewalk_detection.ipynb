{
 "cells": [
  {
   "cell_type": "code",
   "execution_count": 7,
   "metadata": {
    "colab": {
     "base_uri": "https://localhost:8080/",
     "height": 469
    },
    "colab_type": "code",
    "id": "FV7QBfOT_LT2",
    "outputId": "e66eae8a-9791-4bdf-8e19-d6aa6348e4df"
   },
   "outputs": [],
   "source": [
    "import tensorflow as tf\n",
    "\n",
    "import keras\n",
    "from keras.datasets import mnist\n",
    "from keras.models import Sequential, load_model\n",
    "from keras.layers import BatchNormalization, Conv2D, MaxPooling2D, UpSampling2D\n",
    "from keras.layers.core import Dense, Dropout, Activation\n",
    "from keras.utils import np_utils\n",
    "\n",
    "import numpy as np\n",
    "import os\n",
    "import requests"
   ]
  },
  {
   "cell_type": "code",
   "execution_count": 8,
   "metadata": {
    "colab": {
     "base_uri": "https://localhost:8080/",
     "height": 34
    },
    "colab_type": "code",
    "id": "aofEOchw_6RM",
    "outputId": "68066d5e-3e35-4ec6-c44b-2ae91ac405e3"
   },
   "outputs": [
    {
     "name": "stdout",
     "output_type": "stream",
     "text": [
      "2.0.0\n"
     ]
    }
   ],
   "source": [
    "print(tf.__version__)"
   ]
  },
  {
   "cell_type": "code",
   "execution_count": 9,
   "metadata": {
    "colab": {
     "base_uri": "https://localhost:8080/",
     "height": 33
    },
    "colab_type": "code",
    "id": "TelqndhaA8dY",
    "outputId": "3fcd8ca6-c340-4edd-8239-a284137f830e"
   },
   "outputs": [
    {
     "name": "stdout",
     "output_type": "stream",
     "text": [
      "C:\\Users\\Kittiphong\\sidewalk detection\n"
     ]
    }
   ],
   "source": [
    "print(os.getcwd())\n",
    "\n"
   ]
  },
  {
   "cell_type": "code",
   "execution_count": 10,
   "metadata": {
    "colab": {},
    "colab_type": "code",
    "id": "KcDAqCvY4N_n"
   },
   "outputs": [],
   "source": [
    "model = Sequential()\n",
    "\n",
    "#1st Layer\n",
    "model.add(Conv2D(32, (3, 3), activation='relu', kernel_initializer='he_uniform', input_shape=(1080, 1920, 1)))\n",
    "model.add(BatchNormalization(axis=-1, momentum=0.99, epsilon=0.001))\n",
    "model.add(Conv2D(32, (3, 3), activation='relu', kernel_initializer='he_uniform', input_shape=(1080, 1920, 1)))\n",
    "model.add(BatchNormalization(axis=-1, momentum=0.99, epsilon=0.001))\n",
    "model.add(MaxPooling2D(pool_size=2))\n",
    "\n",
    "model.add(Conv2D(32, (3, 3), activation='relu', kernel_initializer='he_uniform', input_shape=(1080, 1920, 1)))\n",
    "model.add(BatchNormalization(axis=-1, momentum=0.99, epsilon=0.001))\n",
    "model.add(Conv2D(32, (3, 3), activation='relu', kernel_initializer='he_uniform', input_shape=(1080, 1920, 1)))\n",
    "model.add(BatchNormalization(axis=-1, momentum=0.99, epsilon=0.001))\n",
    "model.add(MaxPooling2D(pool_size=2))\n",
    "\n",
    "model.add(Conv2D(32, (3, 3), activation='relu', kernel_initializer='he_uniform', input_shape=(1080, 1920, 1)))\n",
    "model.add(BatchNormalization(axis=-1, momentum=0.99, epsilon=0.001))\n",
    "model.add(Conv2D(32, (3, 3), activation='relu', kernel_initializer='he_uniform', input_shape=(1080, 1920, 1)))\n",
    "model.add(BatchNormalization(axis=-1, momentum=0.99, epsilon=0.001))\n",
    "model.add(Conv2D(32, (3, 3), activation='relu', kernel_initializer='he_uniform', input_shape=(1080, 1920, 1)))\n",
    "model.add(BatchNormalization(axis=-1, momentum=0.99, epsilon=0.001))\n",
    "model.add(MaxPooling2D(pool_size=2))\n",
    "\n",
    "model.add(Conv2D(32, (3, 3), activation='relu', kernel_initializer='he_uniform', input_shape=(1080, 1920, 1)))\n",
    "model.add(BatchNormalization(axis=-1, momentum=0.99, epsilon=0.001))\n",
    "model.add(Conv2D(32, (3, 3), activation='relu', kernel_initializer='he_uniform', input_shape=(1080, 1920, 1)))\n",
    "model.add(BatchNormalization(axis=-1, momentum=0.99, epsilon=0.001))\n",
    "model.add(Conv2D(32, (3, 3), activation='relu', kernel_initializer='he_uniform', input_shape=(1080, 1920, 1)))\n",
    "model.add(BatchNormalization(axis=-1, momentum=0.99, epsilon=0.001))\n",
    "model.add(MaxPooling2D(pool_size=2))\n",
    "\n",
    "model.add(Conv2D(32, (3, 3), activation='relu', kernel_initializer='he_uniform', input_shape=(1080, 1920, 1)))\n",
    "model.add(BatchNormalization(axis=-1, momentum=0.99, epsilon=0.001))\n",
    "model.add(Conv2D(32, (3, 3), activation='relu', kernel_initializer='he_uniform', input_shape=(1080, 1920, 1)))\n",
    "model.add(BatchNormalization(axis=-1, momentum=0.99, epsilon=0.001))\n",
    "model.add(Conv2D(32, (3, 3), activation='relu', kernel_initializer='he_uniform', input_shape=(1080, 1920, 1)))\n",
    "model.add(BatchNormalization(axis=-1, momentum=0.99, epsilon=0.001))\n",
    "model.add(MaxPooling2D(pool_size=2))\n",
    "\n",
    "\n",
    "#Upsampling Part\n",
    "model.add(UpSampling2D(size=(2, 2), data_format=None, interpolation='nearest'))\n",
    "model.add(Conv2D(32, (3, 3), activation='relu', kernel_initializer='he_uniform', input_shape=(1080, 1920, 1)))\n",
    "model.add(BatchNormalization(axis=-1, momentum=0.99, epsilon=0.001))\n",
    "model.add(Conv2D(32, (3, 3), activation='relu', kernel_initializer='he_uniform', input_shape=(1080, 1920, 1)))\n",
    "model.add(BatchNormalization(axis=-1, momentum=0.99, epsilon=0.001))\n",
    "model.add(Conv2D(32, (3, 3), activation='relu', kernel_initializer='he_uniform', input_shape=(1080, 1920, 1)))\n",
    "model.add(BatchNormalization(axis=-1, momentum=0.99, epsilon=0.001))\n",
    "\n",
    "model.add(UpSampling2D(size=(2, 2), data_format=None, interpolation='nearest'))\n",
    "model.add(Conv2D(32, (3, 3), activation='relu', kernel_initializer='he_uniform', input_shape=(1080, 1920, 1)))\n",
    "model.add(BatchNormalization(axis=-1, momentum=0.99, epsilon=0.001))\n",
    "model.add(Conv2D(32, (3, 3), activation='relu', kernel_initializer='he_uniform', input_shape=(1080, 1920, 1)))\n",
    "model.add(BatchNormalization(axis=-1, momentum=0.99, epsilon=0.001))\n",
    "model.add(Conv2D(32, (3, 3), activation='relu', kernel_initializer='he_uniform', input_shape=(1080, 1920, 1)))\n",
    "model.add(BatchNormalization(axis=-1, momentum=0.99, epsilon=0.001))\n",
    "\n",
    "\n",
    "model.add(UpSampling2D(size=(2, 2), data_format=None, interpolation='nearest'))\n",
    "model.add(Conv2D(32, (3, 3), activation='relu', kernel_initializer='he_uniform', input_shape=(1080, 1920, 1)))\n",
    "model.add(BatchNormalization(axis=-1, momentum=0.99, epsilon=0.001))\n",
    "model.add(Conv2D(32, (3, 3), activation='relu', kernel_initializer='he_uniform', input_shape=(1080, 1920, 1)))\n",
    "model.add(BatchNormalization(axis=-1, momentum=0.99, epsilon=0.001))\n",
    "model.add(Conv2D(32, (3, 3), activation='relu', kernel_initializer='he_uniform', input_shape=(1080, 1920, 1)))\n",
    "model.add(BatchNormalization(axis=-1, momentum=0.99, epsilon=0.001))\n",
    "\n",
    "model.add(UpSampling2D(size=(2, 2), data_format=None, interpolation='nearest'))\n",
    "model.add(Conv2D(32, (3, 3), activation='relu', kernel_initializer='he_uniform', input_shape=(1080, 1920, 1)))\n",
    "model.add(BatchNormalization(axis=-1, momentum=0.99, epsilon=0.001))\n",
    "model.add(Conv2D(32, (3, 3), activation='relu', kernel_initializer='he_uniform', input_shape=(1080, 1920, 1)))\n",
    "model.add(BatchNormalization(axis=-1, momentum=0.99, epsilon=0.001))\n",
    "\n",
    "model.add(UpSampling2D(size=(2, 2), data_format=None, interpolation='nearest'))\n",
    "model.add(Conv2D(32, (3, 3), activation='relu', kernel_initializer='he_uniform', input_shape=(1080, 1920, 1)))\n",
    "model.add(BatchNormalization(axis=-1, momentum=0.99, epsilon=0.001))\n",
    "model.add(Conv2D(32, (3, 3), activation='relu', kernel_initializer='he_uniform', input_shape=(1080, 1920, 1)))\n",
    "model.add(BatchNormalization(axis=-1, momentum=0.99, epsilon=0.001))\n",
    "\n",
    "model.add(Dense(3, activation='softmax'))"
   ]
  },
  {
   "cell_type": "code",
   "execution_count": 11,
   "metadata": {
    "colab": {
     "base_uri": "https://localhost:8080/",
     "height": 190
    },
    "colab_type": "code",
    "id": "jbYonz1M8oeA",
    "outputId": "c9bf0f63-7349-4bfa-9eff-e117f8165058"
   },
   "outputs": [
    {
     "name": "stdout",
     "output_type": "stream",
     "text": [
      "Model: \"sequential_2\"\n",
      "_________________________________________________________________\n",
      "Layer (type)                 Output Shape              Param #   \n",
      "=================================================================\n",
      "conv2d_1 (Conv2D)            (None, 1078, 1918, 32)    320       \n",
      "_________________________________________________________________\n",
      "batch_normalization_1 (Batch (None, 1078, 1918, 32)    128       \n",
      "_________________________________________________________________\n",
      "conv2d_2 (Conv2D)            (None, 1076, 1916, 32)    9248      \n",
      "_________________________________________________________________\n",
      "batch_normalization_2 (Batch (None, 1076, 1916, 32)    128       \n",
      "_________________________________________________________________\n",
      "max_pooling2d_1 (MaxPooling2 (None, 538, 958, 32)      0         \n",
      "_________________________________________________________________\n",
      "conv2d_3 (Conv2D)            (None, 536, 956, 32)      9248      \n",
      "_________________________________________________________________\n",
      "batch_normalization_3 (Batch (None, 536, 956, 32)      128       \n",
      "_________________________________________________________________\n",
      "conv2d_4 (Conv2D)            (None, 534, 954, 32)      9248      \n",
      "_________________________________________________________________\n",
      "batch_normalization_4 (Batch (None, 534, 954, 32)      128       \n",
      "_________________________________________________________________\n",
      "max_pooling2d_2 (MaxPooling2 (None, 267, 477, 32)      0         \n",
      "_________________________________________________________________\n",
      "conv2d_5 (Conv2D)            (None, 265, 475, 32)      9248      \n",
      "_________________________________________________________________\n",
      "batch_normalization_5 (Batch (None, 265, 475, 32)      128       \n",
      "_________________________________________________________________\n",
      "conv2d_6 (Conv2D)            (None, 263, 473, 32)      9248      \n",
      "_________________________________________________________________\n",
      "batch_normalization_6 (Batch (None, 263, 473, 32)      128       \n",
      "_________________________________________________________________\n",
      "conv2d_7 (Conv2D)            (None, 261, 471, 32)      9248      \n",
      "_________________________________________________________________\n",
      "batch_normalization_7 (Batch (None, 261, 471, 32)      128       \n",
      "_________________________________________________________________\n",
      "max_pooling2d_3 (MaxPooling2 (None, 130, 235, 32)      0         \n",
      "_________________________________________________________________\n",
      "conv2d_8 (Conv2D)            (None, 128, 233, 32)      9248      \n",
      "_________________________________________________________________\n",
      "batch_normalization_8 (Batch (None, 128, 233, 32)      128       \n",
      "_________________________________________________________________\n",
      "conv2d_9 (Conv2D)            (None, 126, 231, 32)      9248      \n",
      "_________________________________________________________________\n",
      "batch_normalization_9 (Batch (None, 126, 231, 32)      128       \n",
      "_________________________________________________________________\n",
      "conv2d_10 (Conv2D)           (None, 124, 229, 32)      9248      \n",
      "_________________________________________________________________\n",
      "batch_normalization_10 (Batc (None, 124, 229, 32)      128       \n",
      "_________________________________________________________________\n",
      "max_pooling2d_4 (MaxPooling2 (None, 62, 114, 32)       0         \n",
      "_________________________________________________________________\n",
      "conv2d_11 (Conv2D)           (None, 60, 112, 32)       9248      \n",
      "_________________________________________________________________\n",
      "batch_normalization_11 (Batc (None, 60, 112, 32)       128       \n",
      "_________________________________________________________________\n",
      "conv2d_12 (Conv2D)           (None, 58, 110, 32)       9248      \n",
      "_________________________________________________________________\n",
      "batch_normalization_12 (Batc (None, 58, 110, 32)       128       \n",
      "_________________________________________________________________\n",
      "conv2d_13 (Conv2D)           (None, 56, 108, 32)       9248      \n",
      "_________________________________________________________________\n",
      "batch_normalization_13 (Batc (None, 56, 108, 32)       128       \n",
      "_________________________________________________________________\n",
      "max_pooling2d_5 (MaxPooling2 (None, 28, 54, 32)        0         \n",
      "_________________________________________________________________\n",
      "up_sampling2d_1 (UpSampling2 (None, 56, 108, 32)       0         \n",
      "_________________________________________________________________\n",
      "conv2d_14 (Conv2D)           (None, 54, 106, 32)       9248      \n",
      "_________________________________________________________________\n",
      "batch_normalization_14 (Batc (None, 54, 106, 32)       128       \n",
      "_________________________________________________________________\n",
      "conv2d_15 (Conv2D)           (None, 52, 104, 32)       9248      \n",
      "_________________________________________________________________\n",
      "batch_normalization_15 (Batc (None, 52, 104, 32)       128       \n",
      "_________________________________________________________________\n",
      "conv2d_16 (Conv2D)           (None, 50, 102, 32)       9248      \n",
      "_________________________________________________________________\n",
      "batch_normalization_16 (Batc (None, 50, 102, 32)       128       \n",
      "_________________________________________________________________\n",
      "up_sampling2d_2 (UpSampling2 (None, 100, 204, 32)      0         \n",
      "_________________________________________________________________\n",
      "conv2d_17 (Conv2D)           (None, 98, 202, 32)       9248      \n",
      "_________________________________________________________________\n",
      "batch_normalization_17 (Batc (None, 98, 202, 32)       128       \n",
      "_________________________________________________________________\n",
      "conv2d_18 (Conv2D)           (None, 96, 200, 32)       9248      \n",
      "_________________________________________________________________\n",
      "batch_normalization_18 (Batc (None, 96, 200, 32)       128       \n",
      "_________________________________________________________________\n",
      "conv2d_19 (Conv2D)           (None, 94, 198, 32)       9248      \n",
      "_________________________________________________________________\n",
      "batch_normalization_19 (Batc (None, 94, 198, 32)       128       \n",
      "_________________________________________________________________\n",
      "up_sampling2d_3 (UpSampling2 (None, 188, 396, 32)      0         \n",
      "_________________________________________________________________\n",
      "conv2d_20 (Conv2D)           (None, 186, 394, 32)      9248      \n",
      "_________________________________________________________________\n",
      "batch_normalization_20 (Batc (None, 186, 394, 32)      128       \n",
      "_________________________________________________________________\n",
      "conv2d_21 (Conv2D)           (None, 184, 392, 32)      9248      \n",
      "_________________________________________________________________\n",
      "batch_normalization_21 (Batc (None, 184, 392, 32)      128       \n",
      "_________________________________________________________________\n",
      "conv2d_22 (Conv2D)           (None, 182, 390, 32)      9248      \n",
      "_________________________________________________________________\n",
      "batch_normalization_22 (Batc (None, 182, 390, 32)      128       \n",
      "_________________________________________________________________\n",
      "up_sampling2d_4 (UpSampling2 (None, 364, 780, 32)      0         \n",
      "_________________________________________________________________\n",
      "conv2d_23 (Conv2D)           (None, 362, 778, 32)      9248      \n",
      "_________________________________________________________________\n",
      "batch_normalization_23 (Batc (None, 362, 778, 32)      128       \n",
      "_________________________________________________________________\n",
      "conv2d_24 (Conv2D)           (None, 360, 776, 32)      9248      \n",
      "_________________________________________________________________\n",
      "batch_normalization_24 (Batc (None, 360, 776, 32)      128       \n",
      "_________________________________________________________________\n",
      "up_sampling2d_5 (UpSampling2 (None, 720, 1552, 32)     0         \n",
      "_________________________________________________________________\n",
      "conv2d_25 (Conv2D)           (None, 718, 1550, 32)     9248      \n",
      "_________________________________________________________________\n",
      "batch_normalization_25 (Batc (None, 718, 1550, 32)     128       \n",
      "_________________________________________________________________\n",
      "conv2d_26 (Conv2D)           (None, 716, 1548, 32)     9248      \n",
      "_________________________________________________________________\n",
      "batch_normalization_26 (Batc (None, 716, 1548, 32)     128       \n",
      "_________________________________________________________________\n",
      "dense_1 (Dense)              (None, 716, 1548, 3)      99        \n",
      "=================================================================\n",
      "Total params: 234,947\n",
      "Trainable params: 233,283\n",
      "Non-trainable params: 1,664\n",
      "_________________________________________________________________\n"
     ]
    }
   ],
   "source": [
    "(model.summary())"
   ]
  },
  {
   "cell_type": "code",
   "execution_count": 0,
   "metadata": {
    "colab": {
     "base_uri": "https://localhost:8080/",
     "height": 383
    },
    "colab_type": "code",
    "id": "8cCvq0UR49ln",
    "outputId": "4ba92373-5717-4643-bc2a-0697f8520184"
   },
   "outputs": [
    {
     "name": "stdout",
     "output_type": "stream",
     "text": [
      "Requirement already satisfied: tensorflow in /usr/local/lib/python3.6/dist-packages (2.0.0b1)\n",
      "Requirement already satisfied: tf-estimator-nightly<1.14.0.dev2019060502,>=1.14.0.dev2019060501 in /usr/local/lib/python3.6/dist-packages (from tensorflow) (1.14.0.dev2019060501)\n",
      "Requirement already satisfied: wrapt>=1.11.1 in /usr/local/lib/python3.6/dist-packages (from tensorflow) (1.11.2)\n",
      "Requirement already satisfied: wheel>=0.26 in /usr/local/lib/python3.6/dist-packages (from tensorflow) (0.34.2)\n",
      "Requirement already satisfied: astor>=0.6.0 in /usr/local/lib/python3.6/dist-packages (from tensorflow) (0.8.1)\n",
      "Requirement already satisfied: tb-nightly<1.14.0a20190604,>=1.14.0a20190603 in /usr/local/lib/python3.6/dist-packages (from tensorflow) (1.14.0a20190603)\n",
      "Requirement already satisfied: absl-py>=0.7.0 in /usr/local/lib/python3.6/dist-packages (from tensorflow) (0.9.0)\n",
      "Requirement already satisfied: keras-applications>=1.0.6 in /usr/local/lib/python3.6/dist-packages (from tensorflow) (1.0.8)\n",
      "Requirement already satisfied: keras-preprocessing>=1.0.5 in /usr/local/lib/python3.6/dist-packages (from tensorflow) (1.1.0)\n",
      "Requirement already satisfied: google-pasta>=0.1.6 in /usr/local/lib/python3.6/dist-packages (from tensorflow) (0.1.8)\n",
      "Requirement already satisfied: numpy<2.0,>=1.14.5 in /usr/local/lib/python3.6/dist-packages (from tensorflow) (1.17.5)\n",
      "Requirement already satisfied: gast>=0.2.0 in /usr/local/lib/python3.6/dist-packages (from tensorflow) (0.2.2)\n",
      "Requirement already satisfied: protobuf>=3.6.1 in /usr/local/lib/python3.6/dist-packages (from tensorflow) (3.10.0)\n",
      "Requirement already satisfied: termcolor>=1.1.0 in /usr/local/lib/python3.6/dist-packages (from tensorflow) (1.1.0)\n",
      "Requirement already satisfied: grpcio>=1.8.6 in /usr/local/lib/python3.6/dist-packages (from tensorflow) (1.27.1)\n",
      "Requirement already satisfied: six>=1.10.0 in /usr/local/lib/python3.6/dist-packages (from tensorflow) (1.12.0)\n",
      "Requirement already satisfied: markdown>=2.6.8 in /usr/local/lib/python3.6/dist-packages (from tb-nightly<1.14.0a20190604,>=1.14.0a20190603->tensorflow) (3.2.1)\n",
      "Requirement already satisfied: setuptools>=41.0.0 in /usr/local/lib/python3.6/dist-packages (from tb-nightly<1.14.0a20190604,>=1.14.0a20190603->tensorflow) (45.1.0)\n",
      "Requirement already satisfied: werkzeug>=0.11.15 in /usr/local/lib/python3.6/dist-packages (from tb-nightly<1.14.0a20190604,>=1.14.0a20190603->tensorflow) (1.0.0)\n",
      "Requirement already satisfied: h5py in /usr/local/lib/python3.6/dist-packages (from keras-applications>=1.0.6->tensorflow) (2.8.0)\n"
     ]
    }
   ],
   "source": [
    "!pip install tensorflow"
   ]
  }
 ],
 "metadata": {
  "colab": {
   "name": "Sidewalk detection.ipynb",
   "provenance": []
  },
  "kernelspec": {
   "display_name": "Python 3",
   "language": "python",
   "name": "python3"
  },
  "language_info": {
   "codemirror_mode": {
    "name": "ipython",
    "version": 3
   },
   "file_extension": ".py",
   "mimetype": "text/x-python",
   "name": "python",
   "nbconvert_exporter": "python",
   "pygments_lexer": "ipython3",
   "version": "3.7.4"
  }
 },
 "nbformat": 4,
 "nbformat_minor": 1
}
