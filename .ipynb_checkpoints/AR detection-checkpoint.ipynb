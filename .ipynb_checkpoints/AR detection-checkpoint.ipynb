{
 "cells": [
  {
   "cell_type": "code",
   "execution_count": 1,
   "metadata": {},
   "outputs": [
    {
     "name": "stderr",
     "output_type": "stream",
     "text": [
      "Using TensorFlow backend.\n"
     ]
    }
   ],
   "source": [
    "import numpy as np\n",
    "import tensorflow\n",
    "import os\n",
    "import matplotlib.pyplot as plt\n",
    "import cv2\n",
    "import keras\n",
    "import pickle"
   ]
  },
  {
   "cell_type": "code",
   "execution_count": 10,
   "metadata": {},
   "outputs": [],
   "source": [
    "import pickle\n",
    "def load_file(filename):                                                                       '''Load the sidewalk obstacle image data'''\n",
    "    with open(filename, 'rb') as f:\n",
    "        datadict= pickle.load(f, encoding=\"ISO-8859-1\")                     \n",
    "        (X_train,Y_train),(X_valid,Y_valid),(X_test,Y_test) = datadict\n",
    "        return (X_train, Y_train),(X_valid,Y_valid),(X_test,Y_test)\n",
    "\n",
    "\n",
    "# load training, validation and test set \n",
    "train,valid,test = load_file('D:\\sidewalk\\sidewalk\\sidewalk_rgb_all.pkl')\n",
    "\n",
    "# separate the features and label \n",
    "X_train,y_train = train\n",
    "X_valid,y_valid = valid\n",
    "X_test, y_test  = test\n"
   ]
  },
  {
   "cell_type": "code",
   "execution_count": 18,
   "metadata": {},
   "outputs": [
    {
     "name": "stdout",
     "output_type": "stream",
     "text": [
      "(40000, 27648)\n",
      "(5000, 27648)\n",
      "(5000, 27648)\n"
     ]
    }
   ],
   "source": [
    "print(X_train.shape)\n",
    "print(X_valid.shape)\n",
    "print(X_test.shape)"
   ]
  }
 ],
 "metadata": {
  "kernelspec": {
   "display_name": "Python 3",
   "language": "python",
   "name": "python3"
  },
  "language_info": {
   "codemirror_mode": {
    "name": "ipython",
    "version": 3
   },
   "file_extension": ".py",
   "mimetype": "text/x-python",
   "name": "python",
   "nbconvert_exporter": "python",
   "pygments_lexer": "ipython3",
   "version": "3.7.4"
  }
 },
 "nbformat": 4,
 "nbformat_minor": 2
}
